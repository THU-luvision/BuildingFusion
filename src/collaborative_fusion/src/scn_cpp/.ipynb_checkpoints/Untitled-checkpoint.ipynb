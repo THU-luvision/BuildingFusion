{
 "cells": [
  {
   "cell_type": "code",
   "execution_count": 1,
   "metadata": {},
   "outputs": [],
   "source": [
    "import torch\n",
    "\n",
    "torch.ops.load_library(\"/home/zheng/Desktop/cpp/scn_cpp/extensions/build/libtorchscript_bind.so\")"
   ]
  },
  {
   "cell_type": "code",
   "execution_count": 2,
   "metadata": {},
   "outputs": [
    {
     "name": "stdout",
     "output_type": "stream",
     "text": [
      "tensor([[ 0.8303,  0.5210, -0.5808],\n",
      "        [-0.2219,  0.3971,  0.5129],\n",
      "        [ 0.3224,  0.1931,  0.5339]])\n",
      "tensor([[ 1.6606,  1.0420, -1.1616],\n",
      "        [-0.4439,  0.7943,  1.0258],\n",
      "        [ 0.6448,  0.3863,  1.0679]])\n",
      "tensor([[ 0.8303,  0.5210, -0.5808],\n",
      "        [-0.2219,  0.3971,  0.5129],\n",
      "        [ 0.3224,  0.1931,  0.5339]])\n"
     ]
    }
   ],
   "source": [
    "A = torch.randn([3,3])\n",
    "print(A)\n",
    "\n",
    "B = torch.ops.my_ops.mul2(A)\n",
    "print(B)"
   ]
  },
  {
   "cell_type": "code",
   "execution_count": null,
   "metadata": {},
   "outputs": [],
   "source": [
    "def compute(x):\n",
    "    x = torch.ops.my_ops.warp_perspective(x, torch.eye(3))\n",
    "    return x.matmul(y) + torch.relu(z)"
   ]
  }
 ],
 "metadata": {
  "kernelspec": {
   "display_name": "Python 3",
   "language": "python",
   "name": "python3"
  },
  "language_info": {
   "codemirror_mode": {
    "name": "ipython",
    "version": 3
   },
   "file_extension": ".py",
   "mimetype": "text/x-python",
   "name": "python",
   "nbconvert_exporter": "python",
   "pygments_lexer": "ipython3",
   "version": "3.7.3"
  }
 },
 "nbformat": 4,
 "nbformat_minor": 2
}
